{
 "cells": [
  {
   "cell_type": "markdown",
   "id": "aeac6ab2",
   "metadata": {},
   "source": [
    "* [0. Introduction](#0)   \n",
    "* [1. Import Modules](#1)\n",
    "* [2. Load & Read Data](#2)\n",
    "* [3. EDA and Feature Engineering](#3)\n",
    "    * [3.1. Univariate Explore](#3-1)\n",
    "    * [3.2. Bivariate Explore](#3-2)\n"
   ]
  },
  {
   "cell_type": "markdown",
   "id": "ead449bd",
   "metadata": {
    "papermill": {
     "duration": 0.009285,
     "end_time": "2022-08-16T14:06:00.722483",
     "exception": false,
     "start_time": "2022-08-16T14:06:00.713198",
     "status": "completed"
    },
    "tags": []
   },
   "source": [
    "## <b id=\"0\">Introduction</b><br>\n",
    "When it comes to data science, the industry development indicator is job offers by companies. We have some questions we want to answer:\n",
    "- What are the most opportunities in the field, are you for beginners,intermediate ,senior or exepert experience?\n",
    "- What kind of companies hire data scientists?\n",
    "- Is there an increase or decrease in the number of jobs since 2020?\n",
    "- What is the average salary for data science at all companies?\n",
    "- What are the most in-demand majors in data science?\n",
    "\n",
    "\n",
    "Refrence Notebooks : \n",
    "- https://www.kaggle.com/code/loaiabdalslam/data-science-jobs-report/notebook?fbclid=IwAR3rWb-eqzuhDbDY5V3hlzAdgBRnm9gLq9fLXpsFIE6NPj9J6nwma0rwWzY"
   ]
  },
  {
   "cell_type": "markdown",
   "id": "947f6e32",
   "metadata": {
    "papermill": {
     "duration": 0.00898,
     "end_time": "2022-08-16T14:06:00.740927",
     "exception": false,
     "start_time": "2022-08-16T14:06:00.731947",
     "status": "completed"
    },
    "tags": []
   },
   "source": [
    "## <b id=\"1\"> Import Modules </b><br>\n"
   ]
  },
  {
   "cell_type": "code",
   "execution_count": 12,
   "id": "30d0f3b8",
   "metadata": {
    "execution": {
     "iopub.execute_input": "2022-08-16T14:06:00.762069Z",
     "iopub.status.busy": "2022-08-16T14:06:00.761587Z",
     "iopub.status.idle": "2022-08-16T14:06:01.982541Z",
     "shell.execute_reply": "2022-08-16T14:06:01.981362Z"
    },
    "papermill": {
     "duration": 1.235101,
     "end_time": "2022-08-16T14:06:01.985797",
     "exception": false,
     "start_time": "2022-08-16T14:06:00.750696",
     "status": "completed"
    },
    "tags": []
   },
   "outputs": [],
   "source": [
    "## numpy and pandas for data wrangling\n",
    "\n",
    "import numpy as np\n",
    "import pandas as pd\n",
    "\n",
    "## matplotlib and seaborn for data viz\n",
    "import matplotlib.pyplot as plt\n",
    "import seaborn as sns\n",
    "\n",
    "\n",
    "## pycountry to deal with ISO 3166 codes in the data\n",
    "import pycountry"
   ]
  },
  {
   "cell_type": "markdown",
   "id": "af1a1476",
   "metadata": {
    "papermill": {
     "duration": 0.009261,
     "end_time": "2022-08-16T14:06:02.005873",
     "exception": false,
     "start_time": "2022-08-16T14:06:01.996612",
     "status": "completed"
    },
    "tags": []
   },
   "source": [
    "## <b id=\"2\"> Load & Read Data </b><br>\n"
   ]
  },
  {
   "cell_type": "code",
   "execution_count": 2,
   "id": "b915c5d9",
   "metadata": {
    "execution": {
     "iopub.execute_input": "2022-08-16T14:06:02.026562Z",
     "iopub.status.busy": "2022-08-16T14:06:02.025921Z",
     "iopub.status.idle": "2022-08-16T14:06:02.046808Z",
     "shell.execute_reply": "2022-08-16T14:06:02.045988Z"
    },
    "papermill": {
     "duration": 0.034103,
     "end_time": "2022-08-16T14:06:02.049269",
     "exception": false,
     "start_time": "2022-08-16T14:06:02.015166",
     "status": "completed"
    },
    "scrolled": true,
    "tags": []
   },
   "outputs": [
    {
     "data": {
      "text/html": [
       "<div>\n",
       "<style scoped>\n",
       "    .dataframe tbody tr th:only-of-type {\n",
       "        vertical-align: middle;\n",
       "    }\n",
       "\n",
       "    .dataframe tbody tr th {\n",
       "        vertical-align: top;\n",
       "    }\n",
       "\n",
       "    .dataframe thead th {\n",
       "        text-align: right;\n",
       "    }\n",
       "</style>\n",
       "<table border=\"1\" class=\"dataframe\">\n",
       "  <thead>\n",
       "    <tr style=\"text-align: right;\">\n",
       "      <th></th>\n",
       "      <th>work_year</th>\n",
       "      <th>experience_level</th>\n",
       "      <th>employment_type</th>\n",
       "      <th>job_title</th>\n",
       "      <th>salary</th>\n",
       "      <th>salary_currency</th>\n",
       "      <th>salary_in_usd</th>\n",
       "      <th>employee_residence</th>\n",
       "      <th>remote_ratio</th>\n",
       "      <th>company_location</th>\n",
       "      <th>company_size</th>\n",
       "    </tr>\n",
       "  </thead>\n",
       "  <tbody>\n",
       "    <tr>\n",
       "      <th>0</th>\n",
       "      <td>2020</td>\n",
       "      <td>MI</td>\n",
       "      <td>FT</td>\n",
       "      <td>Data Scientist</td>\n",
       "      <td>70000</td>\n",
       "      <td>EUR</td>\n",
       "      <td>79833</td>\n",
       "      <td>DE</td>\n",
       "      <td>0</td>\n",
       "      <td>DE</td>\n",
       "      <td>L</td>\n",
       "    </tr>\n",
       "    <tr>\n",
       "      <th>1</th>\n",
       "      <td>2020</td>\n",
       "      <td>SE</td>\n",
       "      <td>FT</td>\n",
       "      <td>Machine Learning Scientist</td>\n",
       "      <td>260000</td>\n",
       "      <td>USD</td>\n",
       "      <td>260000</td>\n",
       "      <td>JP</td>\n",
       "      <td>0</td>\n",
       "      <td>JP</td>\n",
       "      <td>S</td>\n",
       "    </tr>\n",
       "    <tr>\n",
       "      <th>2</th>\n",
       "      <td>2020</td>\n",
       "      <td>SE</td>\n",
       "      <td>FT</td>\n",
       "      <td>Big Data Engineer</td>\n",
       "      <td>85000</td>\n",
       "      <td>GBP</td>\n",
       "      <td>109024</td>\n",
       "      <td>GB</td>\n",
       "      <td>50</td>\n",
       "      <td>GB</td>\n",
       "      <td>M</td>\n",
       "    </tr>\n",
       "    <tr>\n",
       "      <th>3</th>\n",
       "      <td>2020</td>\n",
       "      <td>MI</td>\n",
       "      <td>FT</td>\n",
       "      <td>Product Data Analyst</td>\n",
       "      <td>20000</td>\n",
       "      <td>USD</td>\n",
       "      <td>20000</td>\n",
       "      <td>HN</td>\n",
       "      <td>0</td>\n",
       "      <td>HN</td>\n",
       "      <td>S</td>\n",
       "    </tr>\n",
       "    <tr>\n",
       "      <th>4</th>\n",
       "      <td>2020</td>\n",
       "      <td>SE</td>\n",
       "      <td>FT</td>\n",
       "      <td>Machine Learning Engineer</td>\n",
       "      <td>150000</td>\n",
       "      <td>USD</td>\n",
       "      <td>150000</td>\n",
       "      <td>US</td>\n",
       "      <td>50</td>\n",
       "      <td>US</td>\n",
       "      <td>L</td>\n",
       "    </tr>\n",
       "  </tbody>\n",
       "</table>\n",
       "</div>"
      ],
      "text/plain": [
       "   work_year experience_level employment_type                   job_title  \\\n",
       "0       2020               MI              FT              Data Scientist   \n",
       "1       2020               SE              FT  Machine Learning Scientist   \n",
       "2       2020               SE              FT           Big Data Engineer   \n",
       "3       2020               MI              FT        Product Data Analyst   \n",
       "4       2020               SE              FT   Machine Learning Engineer   \n",
       "\n",
       "   salary salary_currency  salary_in_usd employee_residence  remote_ratio  \\\n",
       "0   70000             EUR          79833                 DE             0   \n",
       "1  260000             USD         260000                 JP             0   \n",
       "2   85000             GBP         109024                 GB            50   \n",
       "3   20000             USD          20000                 HN             0   \n",
       "4  150000             USD         150000                 US            50   \n",
       "\n",
       "  company_location company_size  \n",
       "0               DE            L  \n",
       "1               JP            S  \n",
       "2               GB            M  \n",
       "3               HN            S  \n",
       "4               US            L  "
      ]
     },
     "execution_count": 2,
     "metadata": {},
     "output_type": "execute_result"
    }
   ],
   "source": [
    "Salaries =pd.read_csv('ds_salaries.csv',index_col=0)\n",
    "Salaries.head()"
   ]
  },
  {
   "cell_type": "code",
   "execution_count": 3,
   "id": "3be38721",
   "metadata": {},
   "outputs": [
    {
     "data": {
      "text/html": [
       "<div>\n",
       "<style scoped>\n",
       "    .dataframe tbody tr th:only-of-type {\n",
       "        vertical-align: middle;\n",
       "    }\n",
       "\n",
       "    .dataframe tbody tr th {\n",
       "        vertical-align: top;\n",
       "    }\n",
       "\n",
       "    .dataframe thead th {\n",
       "        text-align: right;\n",
       "    }\n",
       "</style>\n",
       "<table border=\"1\" class=\"dataframe\">\n",
       "  <thead>\n",
       "    <tr style=\"text-align: right;\">\n",
       "      <th></th>\n",
       "      <th>work_year</th>\n",
       "      <th>experience_level</th>\n",
       "      <th>employment_type</th>\n",
       "      <th>job_title</th>\n",
       "      <th>salary</th>\n",
       "      <th>salary_currency</th>\n",
       "      <th>salary_in_usd</th>\n",
       "      <th>employee_residence</th>\n",
       "      <th>remote_ratio</th>\n",
       "      <th>company_location</th>\n",
       "      <th>company_size</th>\n",
       "    </tr>\n",
       "  </thead>\n",
       "  <tbody>\n",
       "    <tr>\n",
       "      <th>602</th>\n",
       "      <td>2022</td>\n",
       "      <td>SE</td>\n",
       "      <td>FT</td>\n",
       "      <td>Data Engineer</td>\n",
       "      <td>154000</td>\n",
       "      <td>USD</td>\n",
       "      <td>154000</td>\n",
       "      <td>US</td>\n",
       "      <td>100</td>\n",
       "      <td>US</td>\n",
       "      <td>M</td>\n",
       "    </tr>\n",
       "    <tr>\n",
       "      <th>603</th>\n",
       "      <td>2022</td>\n",
       "      <td>SE</td>\n",
       "      <td>FT</td>\n",
       "      <td>Data Engineer</td>\n",
       "      <td>126000</td>\n",
       "      <td>USD</td>\n",
       "      <td>126000</td>\n",
       "      <td>US</td>\n",
       "      <td>100</td>\n",
       "      <td>US</td>\n",
       "      <td>M</td>\n",
       "    </tr>\n",
       "    <tr>\n",
       "      <th>604</th>\n",
       "      <td>2022</td>\n",
       "      <td>SE</td>\n",
       "      <td>FT</td>\n",
       "      <td>Data Analyst</td>\n",
       "      <td>129000</td>\n",
       "      <td>USD</td>\n",
       "      <td>129000</td>\n",
       "      <td>US</td>\n",
       "      <td>0</td>\n",
       "      <td>US</td>\n",
       "      <td>M</td>\n",
       "    </tr>\n",
       "    <tr>\n",
       "      <th>605</th>\n",
       "      <td>2022</td>\n",
       "      <td>SE</td>\n",
       "      <td>FT</td>\n",
       "      <td>Data Analyst</td>\n",
       "      <td>150000</td>\n",
       "      <td>USD</td>\n",
       "      <td>150000</td>\n",
       "      <td>US</td>\n",
       "      <td>100</td>\n",
       "      <td>US</td>\n",
       "      <td>M</td>\n",
       "    </tr>\n",
       "    <tr>\n",
       "      <th>606</th>\n",
       "      <td>2022</td>\n",
       "      <td>MI</td>\n",
       "      <td>FT</td>\n",
       "      <td>AI Scientist</td>\n",
       "      <td>200000</td>\n",
       "      <td>USD</td>\n",
       "      <td>200000</td>\n",
       "      <td>IN</td>\n",
       "      <td>100</td>\n",
       "      <td>US</td>\n",
       "      <td>L</td>\n",
       "    </tr>\n",
       "  </tbody>\n",
       "</table>\n",
       "</div>"
      ],
      "text/plain": [
       "     work_year experience_level employment_type      job_title  salary  \\\n",
       "602       2022               SE              FT  Data Engineer  154000   \n",
       "603       2022               SE              FT  Data Engineer  126000   \n",
       "604       2022               SE              FT   Data Analyst  129000   \n",
       "605       2022               SE              FT   Data Analyst  150000   \n",
       "606       2022               MI              FT   AI Scientist  200000   \n",
       "\n",
       "    salary_currency  salary_in_usd employee_residence  remote_ratio  \\\n",
       "602             USD         154000                 US           100   \n",
       "603             USD         126000                 US           100   \n",
       "604             USD         129000                 US             0   \n",
       "605             USD         150000                 US           100   \n",
       "606             USD         200000                 IN           100   \n",
       "\n",
       "    company_location company_size  \n",
       "602               US            M  \n",
       "603               US            M  \n",
       "604               US            M  \n",
       "605               US            M  \n",
       "606               US            L  "
      ]
     },
     "execution_count": 3,
     "metadata": {},
     "output_type": "execute_result"
    }
   ],
   "source": [
    "Salaries.tail()"
   ]
  },
  {
   "cell_type": "code",
   "execution_count": 4,
   "id": "49382f92",
   "metadata": {
    "execution": {
     "iopub.execute_input": "2022-08-16T14:06:02.070145Z",
     "iopub.status.busy": "2022-08-16T14:06:02.069531Z",
     "iopub.status.idle": "2022-08-16T14:06:02.097501Z",
     "shell.execute_reply": "2022-08-16T14:06:02.096390Z"
    },
    "papermill": {
     "duration": 0.042102,
     "end_time": "2022-08-16T14:06:02.100539",
     "exception": false,
     "start_time": "2022-08-16T14:06:02.058437",
     "status": "completed"
    },
    "tags": []
   },
   "outputs": [
    {
     "name": "stdout",
     "output_type": "stream",
     "text": [
      "<class 'pandas.core.frame.DataFrame'>\n",
      "Int64Index: 607 entries, 0 to 606\n",
      "Data columns (total 11 columns):\n",
      " #   Column              Non-Null Count  Dtype \n",
      "---  ------              --------------  ----- \n",
      " 0   work_year           607 non-null    int64 \n",
      " 1   experience_level    607 non-null    object\n",
      " 2   employment_type     607 non-null    object\n",
      " 3   job_title           607 non-null    object\n",
      " 4   salary              607 non-null    int64 \n",
      " 5   salary_currency     607 non-null    object\n",
      " 6   salary_in_usd       607 non-null    int64 \n",
      " 7   employee_residence  607 non-null    object\n",
      " 8   remote_ratio        607 non-null    int64 \n",
      " 9   company_location    607 non-null    object\n",
      " 10  company_size        607 non-null    object\n",
      "dtypes: int64(4), object(7)\n",
      "memory usage: 56.9+ KB\n"
     ]
    }
   ],
   "source": [
    "Salaries.info()"
   ]
  },
  {
   "cell_type": "code",
   "execution_count": 5,
   "id": "d2bce598",
   "metadata": {
    "execution": {
     "iopub.execute_input": "2022-08-16T14:06:02.120984Z",
     "iopub.status.busy": "2022-08-16T14:06:02.120597Z",
     "iopub.status.idle": "2022-08-16T14:06:02.157524Z",
     "shell.execute_reply": "2022-08-16T14:06:02.156236Z"
    },
    "papermill": {
     "duration": 0.050792,
     "end_time": "2022-08-16T14:06:02.160694",
     "exception": false,
     "start_time": "2022-08-16T14:06:02.109902",
     "status": "completed"
    },
    "scrolled": true,
    "tags": []
   },
   "outputs": [
    {
     "data": {
      "text/html": [
       "<div>\n",
       "<style scoped>\n",
       "    .dataframe tbody tr th:only-of-type {\n",
       "        vertical-align: middle;\n",
       "    }\n",
       "\n",
       "    .dataframe tbody tr th {\n",
       "        vertical-align: top;\n",
       "    }\n",
       "\n",
       "    .dataframe thead th {\n",
       "        text-align: right;\n",
       "    }\n",
       "</style>\n",
       "<table border=\"1\" class=\"dataframe\">\n",
       "  <thead>\n",
       "    <tr style=\"text-align: right;\">\n",
       "      <th></th>\n",
       "      <th>work_year</th>\n",
       "      <th>salary</th>\n",
       "      <th>salary_in_usd</th>\n",
       "      <th>remote_ratio</th>\n",
       "    </tr>\n",
       "  </thead>\n",
       "  <tbody>\n",
       "    <tr>\n",
       "      <th>count</th>\n",
       "      <td>607.000000</td>\n",
       "      <td>6.070000e+02</td>\n",
       "      <td>607.000000</td>\n",
       "      <td>607.00000</td>\n",
       "    </tr>\n",
       "    <tr>\n",
       "      <th>mean</th>\n",
       "      <td>2021.405272</td>\n",
       "      <td>3.240001e+05</td>\n",
       "      <td>112297.869852</td>\n",
       "      <td>70.92257</td>\n",
       "    </tr>\n",
       "    <tr>\n",
       "      <th>std</th>\n",
       "      <td>0.692133</td>\n",
       "      <td>1.544357e+06</td>\n",
       "      <td>70957.259411</td>\n",
       "      <td>40.70913</td>\n",
       "    </tr>\n",
       "    <tr>\n",
       "      <th>min</th>\n",
       "      <td>2020.000000</td>\n",
       "      <td>4.000000e+03</td>\n",
       "      <td>2859.000000</td>\n",
       "      <td>0.00000</td>\n",
       "    </tr>\n",
       "    <tr>\n",
       "      <th>25%</th>\n",
       "      <td>2021.000000</td>\n",
       "      <td>7.000000e+04</td>\n",
       "      <td>62726.000000</td>\n",
       "      <td>50.00000</td>\n",
       "    </tr>\n",
       "    <tr>\n",
       "      <th>50%</th>\n",
       "      <td>2022.000000</td>\n",
       "      <td>1.150000e+05</td>\n",
       "      <td>101570.000000</td>\n",
       "      <td>100.00000</td>\n",
       "    </tr>\n",
       "    <tr>\n",
       "      <th>75%</th>\n",
       "      <td>2022.000000</td>\n",
       "      <td>1.650000e+05</td>\n",
       "      <td>150000.000000</td>\n",
       "      <td>100.00000</td>\n",
       "    </tr>\n",
       "    <tr>\n",
       "      <th>max</th>\n",
       "      <td>2022.000000</td>\n",
       "      <td>3.040000e+07</td>\n",
       "      <td>600000.000000</td>\n",
       "      <td>100.00000</td>\n",
       "    </tr>\n",
       "  </tbody>\n",
       "</table>\n",
       "</div>"
      ],
      "text/plain": [
       "         work_year        salary  salary_in_usd  remote_ratio\n",
       "count   607.000000  6.070000e+02     607.000000     607.00000\n",
       "mean   2021.405272  3.240001e+05  112297.869852      70.92257\n",
       "std       0.692133  1.544357e+06   70957.259411      40.70913\n",
       "min    2020.000000  4.000000e+03    2859.000000       0.00000\n",
       "25%    2021.000000  7.000000e+04   62726.000000      50.00000\n",
       "50%    2022.000000  1.150000e+05  101570.000000     100.00000\n",
       "75%    2022.000000  1.650000e+05  150000.000000     100.00000\n",
       "max    2022.000000  3.040000e+07  600000.000000     100.00000"
      ]
     },
     "execution_count": 5,
     "metadata": {},
     "output_type": "execute_result"
    }
   ],
   "source": [
    "Salaries.describe()"
   ]
  },
  {
   "cell_type": "code",
   "execution_count": 6,
   "id": "838ad611",
   "metadata": {},
   "outputs": [
    {
     "data": {
      "text/html": [
       "<div>\n",
       "<style scoped>\n",
       "    .dataframe tbody tr th:only-of-type {\n",
       "        vertical-align: middle;\n",
       "    }\n",
       "\n",
       "    .dataframe tbody tr th {\n",
       "        vertical-align: top;\n",
       "    }\n",
       "\n",
       "    .dataframe thead th {\n",
       "        text-align: right;\n",
       "    }\n",
       "</style>\n",
       "<table border=\"1\" class=\"dataframe\">\n",
       "  <thead>\n",
       "    <tr style=\"text-align: right;\">\n",
       "      <th></th>\n",
       "      <th>experience_level</th>\n",
       "      <th>employment_type</th>\n",
       "      <th>job_title</th>\n",
       "      <th>salary_currency</th>\n",
       "      <th>employee_residence</th>\n",
       "      <th>company_location</th>\n",
       "      <th>company_size</th>\n",
       "    </tr>\n",
       "  </thead>\n",
       "  <tbody>\n",
       "    <tr>\n",
       "      <th>count</th>\n",
       "      <td>607</td>\n",
       "      <td>607</td>\n",
       "      <td>607</td>\n",
       "      <td>607</td>\n",
       "      <td>607</td>\n",
       "      <td>607</td>\n",
       "      <td>607</td>\n",
       "    </tr>\n",
       "    <tr>\n",
       "      <th>unique</th>\n",
       "      <td>4</td>\n",
       "      <td>4</td>\n",
       "      <td>50</td>\n",
       "      <td>17</td>\n",
       "      <td>57</td>\n",
       "      <td>50</td>\n",
       "      <td>3</td>\n",
       "    </tr>\n",
       "    <tr>\n",
       "      <th>top</th>\n",
       "      <td>SE</td>\n",
       "      <td>FT</td>\n",
       "      <td>Data Scientist</td>\n",
       "      <td>USD</td>\n",
       "      <td>US</td>\n",
       "      <td>US</td>\n",
       "      <td>M</td>\n",
       "    </tr>\n",
       "    <tr>\n",
       "      <th>freq</th>\n",
       "      <td>280</td>\n",
       "      <td>588</td>\n",
       "      <td>143</td>\n",
       "      <td>398</td>\n",
       "      <td>332</td>\n",
       "      <td>355</td>\n",
       "      <td>326</td>\n",
       "    </tr>\n",
       "  </tbody>\n",
       "</table>\n",
       "</div>"
      ],
      "text/plain": [
       "       experience_level employment_type       job_title salary_currency  \\\n",
       "count               607             607             607             607   \n",
       "unique                4               4              50              17   \n",
       "top                  SE              FT  Data Scientist             USD   \n",
       "freq                280             588             143             398   \n",
       "\n",
       "       employee_residence company_location company_size  \n",
       "count                 607              607          607  \n",
       "unique                 57               50            3  \n",
       "top                    US               US            M  \n",
       "freq                  332              355          326  "
      ]
     },
     "execution_count": 6,
     "metadata": {},
     "output_type": "execute_result"
    }
   ],
   "source": [
    "Salaries.describe(include = \"O\")"
   ]
  },
  {
   "cell_type": "code",
   "execution_count": 7,
   "id": "893c352e",
   "metadata": {
    "execution": {
     "iopub.execute_input": "2022-08-16T14:06:02.183169Z",
     "iopub.status.busy": "2022-08-16T14:06:02.182691Z",
     "iopub.status.idle": "2022-08-16T14:06:02.201704Z",
     "shell.execute_reply": "2022-08-16T14:06:02.200191Z"
    },
    "papermill": {
     "duration": 0.033726,
     "end_time": "2022-08-16T14:06:02.204518",
     "exception": false,
     "start_time": "2022-08-16T14:06:02.170792",
     "status": "completed"
    },
    "scrolled": true,
    "tags": []
   },
   "outputs": [
    {
     "data": {
      "text/plain": [
       "work_year             0\n",
       "experience_level      0\n",
       "employment_type       0\n",
       "job_title             0\n",
       "salary                0\n",
       "salary_currency       0\n",
       "salary_in_usd         0\n",
       "employee_residence    0\n",
       "remote_ratio          0\n",
       "company_location      0\n",
       "company_size          0\n",
       "dtype: int64"
      ]
     },
     "execution_count": 7,
     "metadata": {},
     "output_type": "execute_result"
    }
   ],
   "source": [
    "# are there null value in data?\n",
    "Salaries.isna().sum()"
   ]
  },
  {
   "cell_type": "code",
   "execution_count": 8,
   "id": "fd8b6591",
   "metadata": {},
   "outputs": [
    {
     "data": {
      "text/plain": [
       "42"
      ]
     },
     "execution_count": 8,
     "metadata": {},
     "output_type": "execute_result"
    }
   ],
   "source": [
    "# are there duplicate rows in data?\n",
    "Salaries.duplicated().sum()"
   ]
  },
  {
   "cell_type": "code",
   "execution_count": 9,
   "id": "c6903c0b",
   "metadata": {
    "execution": {
     "iopub.execute_input": "2022-08-16T14:06:02.230030Z",
     "iopub.status.busy": "2022-08-16T14:06:02.228657Z",
     "iopub.status.idle": "2022-08-16T14:06:02.237235Z",
     "shell.execute_reply": "2022-08-16T14:06:02.235877Z"
    },
    "papermill": {
     "duration": 0.024413,
     "end_time": "2022-08-16T14:06:02.239896",
     "exception": false,
     "start_time": "2022-08-16T14:06:02.215483",
     "status": "completed"
    },
    "tags": []
   },
   "outputs": [],
   "source": [
    "Salaries.drop_duplicates(inplace = True )"
   ]
  },
  {
   "cell_type": "code",
   "execution_count": 10,
   "id": "824373b9",
   "metadata": {
    "execution": {
     "iopub.execute_input": "2022-08-16T14:06:02.262175Z",
     "iopub.status.busy": "2022-08-16T14:06:02.261711Z",
     "iopub.status.idle": "2022-08-16T14:06:02.269903Z",
     "shell.execute_reply": "2022-08-16T14:06:02.268534Z"
    },
    "papermill": {
     "duration": 0.021925,
     "end_time": "2022-08-16T14:06:02.272100",
     "exception": false,
     "start_time": "2022-08-16T14:06:02.250175",
     "status": "completed"
    },
    "tags": []
   },
   "outputs": [
    {
     "data": {
      "text/plain": [
       "(565, 11)"
      ]
     },
     "execution_count": 10,
     "metadata": {},
     "output_type": "execute_result"
    }
   ],
   "source": [
    "Salaries.shape"
   ]
  },
  {
   "cell_type": "code",
   "execution_count": 11,
   "id": "24156ce5",
   "metadata": {},
   "outputs": [],
   "source": [
    "# Replacing values for remote_ratio and experience_level to improve legibility\n",
    "\n",
    "Salaries.remote_ratio.replace([100,50,0], [\"Remote\", \"Hybrid\" ,\"On-Site\"], inplace=True)\n",
    "Salaries.experience_level.replace([\"EN\", \"MI\", \"SE\", \"EX\"], [\"Entry\", \"Mid\", \"Senior\", \"Executive\"], inplace=True)\n",
    "Salaries.employment_type.replace([\"FT\", \"PT\", \"FL\", \"CT\"], [\"Full-Time\", \"Part_time\", \"Freelacer\", \"Contract\"], inplace=True)\n",
    "Salaries.company_size.replace([\"L\", \"S\", \"M\"], [\"Large\", \"Small\", \"medium\"], inplace=True)"
   ]
  },
  {
   "cell_type": "code",
   "execution_count": 12,
   "id": "7a706dca",
   "metadata": {},
   "outputs": [],
   "source": [
    "# We are going to need to adjust the table to show the full names of the countries for better readability\n",
    "\n",
    "country_list = []\n",
    "for country_code in Salaries.company_location:\n",
    "    country_list.append(pycountry.countries.get(alpha_2=country_code).name)\n",
    "    \n",
    "Salaries['company_location'] = country_list"
   ]
  },
  {
   "cell_type": "code",
   "execution_count": 13,
   "id": "326e55cf",
   "metadata": {},
   "outputs": [
    {
     "data": {
      "text/html": [
       "<div>\n",
       "<style scoped>\n",
       "    .dataframe tbody tr th:only-of-type {\n",
       "        vertical-align: middle;\n",
       "    }\n",
       "\n",
       "    .dataframe tbody tr th {\n",
       "        vertical-align: top;\n",
       "    }\n",
       "\n",
       "    .dataframe thead th {\n",
       "        text-align: right;\n",
       "    }\n",
       "</style>\n",
       "<table border=\"1\" class=\"dataframe\">\n",
       "  <thead>\n",
       "    <tr style=\"text-align: right;\">\n",
       "      <th></th>\n",
       "      <th>work_year</th>\n",
       "      <th>experience_level</th>\n",
       "      <th>employment_type</th>\n",
       "      <th>job_title</th>\n",
       "      <th>salary_in_usd</th>\n",
       "      <th>remote_ratio</th>\n",
       "      <th>company_location</th>\n",
       "      <th>company_size</th>\n",
       "    </tr>\n",
       "  </thead>\n",
       "  <tbody>\n",
       "    <tr>\n",
       "      <th>0</th>\n",
       "      <td>2020</td>\n",
       "      <td>Mid</td>\n",
       "      <td>Full-Time</td>\n",
       "      <td>Data Scientist</td>\n",
       "      <td>79833</td>\n",
       "      <td>On-Site</td>\n",
       "      <td>Germany</td>\n",
       "      <td>Large</td>\n",
       "    </tr>\n",
       "    <tr>\n",
       "      <th>1</th>\n",
       "      <td>2020</td>\n",
       "      <td>Senior</td>\n",
       "      <td>Full-Time</td>\n",
       "      <td>Machine Learning Scientist</td>\n",
       "      <td>260000</td>\n",
       "      <td>On-Site</td>\n",
       "      <td>Japan</td>\n",
       "      <td>Small</td>\n",
       "    </tr>\n",
       "    <tr>\n",
       "      <th>2</th>\n",
       "      <td>2020</td>\n",
       "      <td>Senior</td>\n",
       "      <td>Full-Time</td>\n",
       "      <td>Big Data Engineer</td>\n",
       "      <td>109024</td>\n",
       "      <td>Hybrid</td>\n",
       "      <td>United Kingdom</td>\n",
       "      <td>medium</td>\n",
       "    </tr>\n",
       "    <tr>\n",
       "      <th>3</th>\n",
       "      <td>2020</td>\n",
       "      <td>Mid</td>\n",
       "      <td>Full-Time</td>\n",
       "      <td>Product Data Analyst</td>\n",
       "      <td>20000</td>\n",
       "      <td>On-Site</td>\n",
       "      <td>Honduras</td>\n",
       "      <td>Small</td>\n",
       "    </tr>\n",
       "    <tr>\n",
       "      <th>4</th>\n",
       "      <td>2020</td>\n",
       "      <td>Senior</td>\n",
       "      <td>Full-Time</td>\n",
       "      <td>Machine Learning Engineer</td>\n",
       "      <td>150000</td>\n",
       "      <td>Hybrid</td>\n",
       "      <td>United States</td>\n",
       "      <td>Large</td>\n",
       "    </tr>\n",
       "    <tr>\n",
       "      <th>...</th>\n",
       "      <td>...</td>\n",
       "      <td>...</td>\n",
       "      <td>...</td>\n",
       "      <td>...</td>\n",
       "      <td>...</td>\n",
       "      <td>...</td>\n",
       "      <td>...</td>\n",
       "      <td>...</td>\n",
       "    </tr>\n",
       "    <tr>\n",
       "      <th>602</th>\n",
       "      <td>2022</td>\n",
       "      <td>Senior</td>\n",
       "      <td>Full-Time</td>\n",
       "      <td>Data Engineer</td>\n",
       "      <td>154000</td>\n",
       "      <td>Remote</td>\n",
       "      <td>United States</td>\n",
       "      <td>medium</td>\n",
       "    </tr>\n",
       "    <tr>\n",
       "      <th>603</th>\n",
       "      <td>2022</td>\n",
       "      <td>Senior</td>\n",
       "      <td>Full-Time</td>\n",
       "      <td>Data Engineer</td>\n",
       "      <td>126000</td>\n",
       "      <td>Remote</td>\n",
       "      <td>United States</td>\n",
       "      <td>medium</td>\n",
       "    </tr>\n",
       "    <tr>\n",
       "      <th>604</th>\n",
       "      <td>2022</td>\n",
       "      <td>Senior</td>\n",
       "      <td>Full-Time</td>\n",
       "      <td>Data Analyst</td>\n",
       "      <td>129000</td>\n",
       "      <td>On-Site</td>\n",
       "      <td>United States</td>\n",
       "      <td>medium</td>\n",
       "    </tr>\n",
       "    <tr>\n",
       "      <th>605</th>\n",
       "      <td>2022</td>\n",
       "      <td>Senior</td>\n",
       "      <td>Full-Time</td>\n",
       "      <td>Data Analyst</td>\n",
       "      <td>150000</td>\n",
       "      <td>Remote</td>\n",
       "      <td>United States</td>\n",
       "      <td>medium</td>\n",
       "    </tr>\n",
       "    <tr>\n",
       "      <th>606</th>\n",
       "      <td>2022</td>\n",
       "      <td>Mid</td>\n",
       "      <td>Full-Time</td>\n",
       "      <td>AI Scientist</td>\n",
       "      <td>200000</td>\n",
       "      <td>Remote</td>\n",
       "      <td>United States</td>\n",
       "      <td>Large</td>\n",
       "    </tr>\n",
       "  </tbody>\n",
       "</table>\n",
       "<p>565 rows × 8 columns</p>\n",
       "</div>"
      ],
      "text/plain": [
       "     work_year experience_level employment_type                   job_title  \\\n",
       "0         2020              Mid       Full-Time              Data Scientist   \n",
       "1         2020           Senior       Full-Time  Machine Learning Scientist   \n",
       "2         2020           Senior       Full-Time           Big Data Engineer   \n",
       "3         2020              Mid       Full-Time        Product Data Analyst   \n",
       "4         2020           Senior       Full-Time   Machine Learning Engineer   \n",
       "..         ...              ...             ...                         ...   \n",
       "602       2022           Senior       Full-Time               Data Engineer   \n",
       "603       2022           Senior       Full-Time               Data Engineer   \n",
       "604       2022           Senior       Full-Time                Data Analyst   \n",
       "605       2022           Senior       Full-Time                Data Analyst   \n",
       "606       2022              Mid       Full-Time                AI Scientist   \n",
       "\n",
       "     salary_in_usd remote_ratio company_location company_size  \n",
       "0            79833      On-Site          Germany        Large  \n",
       "1           260000      On-Site            Japan        Small  \n",
       "2           109024       Hybrid   United Kingdom       medium  \n",
       "3            20000      On-Site         Honduras        Small  \n",
       "4           150000       Hybrid    United States        Large  \n",
       "..             ...          ...              ...          ...  \n",
       "602         154000       Remote    United States       medium  \n",
       "603         126000       Remote    United States       medium  \n",
       "604         129000      On-Site    United States       medium  \n",
       "605         150000       Remote    United States       medium  \n",
       "606         200000       Remote    United States        Large  \n",
       "\n",
       "[565 rows x 8 columns]"
      ]
     },
     "execution_count": 13,
     "metadata": {},
     "output_type": "execute_result"
    }
   ],
   "source": [
    "# Filtering the salaries to display columns of interest\n",
    "salaries_jobs = Salaries.columns.isin([\"salary_currency\" , \"salary\",\"employee_residence\"])\n",
    "\n",
    "salaries_jobs = Salaries.columns[~salaries_jobs]\n",
    "\n",
    "salaries_jobs = Salaries[salaries_jobs]\n",
    "salaries_jobs"
   ]
  },
  {
   "cell_type": "markdown",
   "id": "4705a1c1",
   "metadata": {
    "papermill": {
     "duration": 0.009856,
     "end_time": "2022-08-16T14:06:02.292127",
     "exception": false,
     "start_time": "2022-08-16T14:06:02.282271",
     "status": "completed"
    },
    "tags": []
   },
   "source": [
    "## <b id=\"2\"> Apply EDA</b><br>\n",
    "1.Univariate Analysis: in univariate analysis, there is only one dependable variable. The objective of univariate analysis is to derive the data, define and summarize it, and analyze the pattern present in it. In a dataset, it explores each variable separately. It is possible for two kinds of variables- Categorical and Numerical.\n",
    "\n",
    "2 Bivariate Analysis:The analysis is related to cause and the relationship between the two variables. There are three types of bivariate analysis. The analysis is related to cause and the relationship between the two variables. There are three types of bivariate analysis.(numerical-numerical,categorical-categorical,numrical-categorical)"
   ]
  },
  {
   "cell_type": "markdown",
   "id": "e4874e6e",
   "metadata": {
    "papermill": {
     "duration": 0.009541,
     "end_time": "2022-08-16T14:06:02.311652",
     "exception": false,
     "start_time": "2022-08-16T14:06:02.302111",
     "status": "completed"
    },
    "tags": []
   },
   "source": [
    "## <b id=\"3-1\"> Univariate Analysis</b><br>\n"
   ]
  },
  {
   "cell_type": "code",
   "execution_count": 14,
   "id": "3d70acc1",
   "metadata": {
    "execution": {
     "iopub.execute_input": "2022-08-16T14:06:02.333926Z",
     "iopub.status.busy": "2022-08-16T14:06:02.333535Z",
     "iopub.status.idle": "2022-08-16T14:06:02.591487Z",
     "shell.execute_reply": "2022-08-16T14:06:02.590005Z"
    },
    "papermill": {
     "duration": 0.272198,
     "end_time": "2022-08-16T14:06:02.594267",
     "exception": false,
     "start_time": "2022-08-16T14:06:02.322069",
     "status": "completed"
    },
    "scrolled": false,
    "tags": []
   },
   "outputs": [
    {
     "data": {
      "image/png": "[encoded data removed]",
      "text/plain": [
       "<Figure size 1080x360 with 2 Axes>"
      ]
     },
     "metadata": {
      "needs_background": "light"
     },
     "output_type": "display_data"
    }
   ],
   "source": [
    "plt.figure(figsize=(15,5))\n",
    "plt.subplot(121)\n",
    "salaries_jobs['employment_type'].value_counts().plot(kind='bar',color=sns.color_palette(\"tab10\"))\n",
    "plt.xlabel(\"Employment type\")\n",
    "plt.ylabel(\"Employees\")\n",
    "\n",
    "plt.subplot(122)\n",
    "salaries_jobs['employment_type'].value_counts().plot(kind='pie',autopct = \"%.2f\" , explode = [0.1,1,1,1],startangle = 45)\n",
    "plt.show()"
   ]
  },
  {
   "cell_type": "markdown",
   "id": "67767856",
   "metadata": {
    "papermill": {
     "duration": 0.010107,
     "end_time": "2022-08-16T14:06:02.614712",
     "exception": false,
     "start_time": "2022-08-16T14:06:02.604605",
     "status": "completed"
    },
    "tags": []
   },
   "source": [
    "<center>Graph (1-1)</center>"
   ]
  },
  {
   "cell_type": "markdown",
   "id": "8b09622b",
   "metadata": {
    "papermill": {
     "duration": 0.009889,
     "end_time": "2022-08-16T14:06:02.634630",
     "exception": false,
     "start_time": "2022-08-16T14:06:02.624741",
     "status": "completed"
    },
    "tags": []
   },
   "source": [
    "<b id=\"3-1-1\">1 - Employment Type:</b><br>\n",
    "From Graph (1-1) its Represent That The Most of jobs is Full Time more than 96% of entries is assigned to full time job "
   ]
  },
  {
   "cell_type": "code",
   "execution_count": 15,
   "id": "6210c1ff",
   "metadata": {
    "execution": {
     "iopub.execute_input": "2022-08-16T14:06:02.656463Z",
     "iopub.status.busy": "2022-08-16T14:06:02.656074Z",
     "iopub.status.idle": "2022-08-16T14:06:02.787107Z",
     "shell.execute_reply": "2022-08-16T14:06:02.785868Z"
    },
    "papermill": {
     "duration": 0.148027,
     "end_time": "2022-08-16T14:06:02.792559",
     "exception": false,
     "start_time": "2022-08-16T14:06:02.644532",
     "status": "completed"
    },
    "tags": []
   },
   "outputs": [
    {
     "data": {
      "image/png": "[encoded data removed]",
      "text/plain": [
       "<Figure size 1080x360 with 2 Axes>"
      ]
     },
     "metadata": {
      "needs_background": "light"
     },
     "output_type": "display_data"
    }
   ],
   "source": [
    "#level of Exprince\n",
    "plt.figure(figsize=(15,5))\n",
    "plt.subplot(121)\n",
    "salaries_jobs['experience_level'].value_counts().plot(kind='bar',color=sns.color_palette(\"tab10\"))\n",
    "plt.subplot(122)\n",
    "salaries_jobs['experience_level'].value_counts().plot(kind='pie',autopct=\"%.2f\")\n",
    "plt.show()"
   ]
  },
  {
   "cell_type": "markdown",
   "id": "fe029bcc",
   "metadata": {
    "papermill": {
     "duration": 0.028828,
     "end_time": "2022-08-16T14:06:02.850210",
     "exception": false,
     "start_time": "2022-08-16T14:06:02.821382",
     "status": "completed"
    },
    "tags": []
   },
   "source": [
    "<center>Graph (1-2) </center>"
   ]
  },
  {
   "cell_type": "markdown",
   "id": "d19ad649",
   "metadata": {
    "papermill": {
     "duration": 0.011015,
     "end_time": "2022-08-16T14:06:02.878384",
     "exception": false,
     "start_time": "2022-08-16T14:06:02.867369",
     "status": "completed"
    },
    "tags": []
   },
   "source": [
    "<b id=\"3-1-2\">2 -  Level of Expereince:</b><br>\n",
    "From Graph (1-2) its Represent That The Most of level of experience on demand is senior level that's make sense because compaines need someone ready for jobs missions , SE Level is 46.13% then there is mid Level with 35.09% and Entry Level with 14.5%"
   ]
  },
  {
   "cell_type": "code",
   "execution_count": 16,
   "id": "82960c71",
   "metadata": {
    "execution": {
     "iopub.execute_input": "2022-08-16T14:06:02.902913Z",
     "iopub.status.busy": "2022-08-16T14:06:02.901769Z",
     "iopub.status.idle": "2022-08-16T14:06:03.092491Z",
     "shell.execute_reply": "2022-08-16T14:06:03.091385Z"
    },
    "papermill": {
     "duration": 0.205573,
     "end_time": "2022-08-16T14:06:03.095025",
     "exception": false,
     "start_time": "2022-08-16T14:06:02.889452",
     "status": "completed"
    },
    "tags": []
   },
   "outputs": [
    {
     "data": {
      "image/png": "[encoded data removed]",
      "text/plain": [
       "<Figure size 1080x360 with 2 Axes>"
      ]
     },
     "metadata": {
      "needs_background": "light"
     },
     "output_type": "display_data"
    }
   ],
   "source": [
    "#employees in every year\n",
    "\n",
    "plt.figure(figsize=(15,5))\n",
    "plt.subplot(121)\n",
    "salaries_jobs[\"work_year\"].value_counts().plot(kind='bar',color=sns.color_palette(\"tab10\"))\n",
    "plt.subplot(122)\n",
    "salaries_jobs[\"work_year\"].value_counts().plot(kind='pie',autopct=\"%.2f\")\n",
    "plt.show()"
   ]
  },
  {
   "cell_type": "markdown",
   "id": "2a37c4d8",
   "metadata": {
    "papermill": {
     "duration": 0.010702,
     "end_time": "2022-08-16T14:06:03.116940",
     "exception": false,
     "start_time": "2022-08-16T14:06:03.106238",
     "status": "completed"
    },
    "tags": []
   },
   "source": [
    "<center>Graph (1-3) </center>"
   ]
  },
  {
   "cell_type": "markdown",
   "id": "e543a032",
   "metadata": {
    "papermill": {
     "duration": 0.010824,
     "end_time": "2022-08-16T14:06:03.138768",
     "exception": false,
     "start_time": "2022-08-16T14:06:03.127944",
     "status": "completed"
    },
    "tags": []
   },
   "source": [
    "<b id=\"3-1-3\">3 - Jobs Need By Year:</b><br>\n",
    "\n",
    "Graph (1-3) represents the increase in job hiring over time, In 2022, it increased by 11% from 2021, \n",
    "and in 2021, it increased by  20% from 2020."
   ]
  },
  {
   "cell_type": "code",
   "execution_count": 17,
   "id": "8b4e5777",
   "metadata": {
    "execution": {
     "iopub.execute_input": "2022-08-16T14:06:03.162878Z",
     "iopub.status.busy": "2022-08-16T14:06:03.162456Z",
     "iopub.status.idle": "2022-08-16T14:06:03.276338Z",
     "shell.execute_reply": "2022-08-16T14:06:03.274821Z"
    },
    "papermill": {
     "duration": 0.131196,
     "end_time": "2022-08-16T14:06:03.281189",
     "exception": false,
     "start_time": "2022-08-16T14:06:03.149993",
     "status": "completed"
    },
    "tags": []
   },
   "outputs": [
    {
     "data": {
      "text/plain": [
       "<AxesSubplot:ylabel='remote_ratio'>"
      ]
     },
     "execution_count": 17,
     "metadata": {},
     "output_type": "execute_result"
    },
    {
     "data": {
      "image/png": "[encoded data removed]",
      "text/plain": [
       "<Figure size 1080x360 with 2 Axes>"
      ]
     },
     "metadata": {
      "needs_background": "light"
     },
     "output_type": "display_data"
    }
   ],
   "source": [
    "#remote ratio\n",
    "plt.figure(figsize=(15,5))\n",
    "plt.subplot(1,2,1)\n",
    "salaries_jobs['remote_ratio'].value_counts().plot(kind='bar',color=sns.color_palette(\"tab10\"))\n",
    "plt.subplot(1,2,2)\n",
    "salaries_jobs['remote_ratio'].value_counts().plot(kind='pie',autopct=\"%.2f\")"
   ]
  },
  {
   "cell_type": "markdown",
   "id": "f5fb03ec",
   "metadata": {
    "papermill": {
     "duration": 0.027366,
     "end_time": "2022-08-16T14:06:03.336562",
     "exception": false,
     "start_time": "2022-08-16T14:06:03.309196",
     "status": "completed"
    },
    "tags": []
   },
   "source": [
    "<center>Graph (1-4) </center>"
   ]
  },
  {
   "cell_type": "markdown",
   "id": "54d756d5",
   "metadata": {
    "papermill": {
     "duration": 0.011207,
     "end_time": "2022-08-16T14:06:03.369800",
     "exception": false,
     "start_time": "2022-08-16T14:06:03.358593",
     "status": "completed"
    },
    "tags": []
   },
   "source": [
    "\n",
    "<b id=\"3-1-4\">4 - Remote Ratio:</b><br>\n",
    "From Graph (1-4) its Represent the most jobs full remote job with  61.77% follwing by  on-site jobs with 20.92% and finally hybrid jobs with 17.35%."
   ]
  },
  {
   "cell_type": "code",
   "execution_count": 18,
   "id": "10195aa6",
   "metadata": {
    "execution": {
     "iopub.execute_input": "2022-08-16T14:06:03.394630Z",
     "iopub.status.busy": "2022-08-16T14:06:03.394095Z",
     "iopub.status.idle": "2022-08-16T14:06:03.669017Z",
     "shell.execute_reply": "2022-08-16T14:06:03.667473Z"
    },
    "papermill": {
     "duration": 0.29076,
     "end_time": "2022-08-16T14:06:03.671712",
     "exception": false,
     "start_time": "2022-08-16T14:06:03.380952",
     "status": "completed"
    },
    "tags": []
   },
   "outputs": [
    {
     "data": {
      "text/plain": [
       "<AxesSubplot:ylabel='company_size'>"
      ]
     },
     "execution_count": 18,
     "metadata": {},
     "output_type": "execute_result"
    },
    {
     "data": {
      "image/png": "[encoded data removed]",
      "text/plain": [
       "<Figure size 1080x360 with 2 Axes>"
      ]
     },
     "metadata": {
      "needs_background": "light"
     },
     "output_type": "display_data"
    }
   ],
   "source": [
    "#company size\n",
    "plt.figure(figsize=(15,5))\n",
    "plt.subplot(1,2,1)\n",
    "salaries_jobs['company_size'].value_counts().plot(kind='bar',color=sns.color_palette(\"tab10\"))\n",
    "plt.subplot(1,2,2)\n",
    "salaries_jobs['company_size'].value_counts().plot(kind='pie',autopct=\"%.2f\")"
   ]
  },
  {
   "cell_type": "markdown",
   "id": "619d514a",
   "metadata": {
    "papermill": {
     "duration": 0.011154,
     "end_time": "2022-08-16T14:06:03.694525",
     "exception": false,
     "start_time": "2022-08-16T14:06:03.683371",
     "status": "completed"
    },
    "tags": []
   },
   "source": [
    "<center> Figure (1-5) </center>"
   ]
  },
  {
   "cell_type": "markdown",
   "id": "c1fcf2e7",
   "metadata": {
    "papermill": {
     "duration": 0.011038,
     "end_time": "2022-08-16T14:06:03.717057",
     "exception": false,
     "start_time": "2022-08-16T14:06:03.706019",
     "status": "completed"
    },
    "tags": []
   },
   "source": [
    "\n",
    "<b id=\"3-1-5\">5- Company Size:</b><br>\n",
    "From Graph (1-5) its Represent that is  prelavent company size is medium with 53.71% percentage after large campanies with 34.16%.  "
   ]
  },
  {
   "cell_type": "code",
   "execution_count": 19,
   "id": "d0756594",
   "metadata": {
    "execution": {
     "iopub.execute_input": "2022-08-16T14:06:03.741812Z",
     "iopub.status.busy": "2022-08-16T14:06:03.741344Z",
     "iopub.status.idle": "2022-08-16T14:06:04.091124Z",
     "shell.execute_reply": "2022-08-16T14:06:04.089858Z"
    },
    "papermill": {
     "duration": 0.365148,
     "end_time": "2022-08-16T14:06:04.093529",
     "exception": false,
     "start_time": "2022-08-16T14:06:03.728381",
     "status": "completed"
    },
    "tags": []
   },
   "outputs": [
    {
     "data": {
      "text/plain": [
       "<AxesSubplot:>"
      ]
     },
     "execution_count": 19,
     "metadata": {},
     "output_type": "execute_result"
    },
    {
     "data": {
      "image/png": "[encoded data removed]",
      "text/plain": [
       "<Figure size 1080x432 with 1 Axes>"
      ]
     },
     "metadata": {
      "needs_background": "light"
     },
     "output_type": "display_data"
    }
   ],
   "source": [
    "#job titles\n",
    "plt.figure(figsize=(15,6))\n",
    "Salaries['job_title'].value_counts()[:25].plot(kind='bar',color=sns.color_palette(\"tab10\"))"
   ]
  },
  {
   "cell_type": "markdown",
   "id": "cc06310d",
   "metadata": {
    "papermill": {
     "duration": 0.01169,
     "end_time": "2022-08-16T14:06:04.117430",
     "exception": false,
     "start_time": "2022-08-16T14:06:04.105740",
     "status": "completed"
    },
    "tags": []
   },
   "source": [
    "<center> Figure (1-6) </center>"
   ]
  },
  {
   "cell_type": "markdown",
   "id": "e4a04287",
   "metadata": {
    "papermill": {
     "duration": 0.012033,
     "end_time": "2022-08-16T14:06:04.141756",
     "exception": false,
     "start_time": "2022-08-16T14:06:04.129723",
     "status": "completed"
    },
    "tags": []
   },
   "source": [
    "\n",
    "<b id=\"3-1-6\">6- Job Title :</b><br>\n",
    "Graph (1-6) represents in-demand jobs, it's clear that the data scientist job comes first after comes data engineer job and data Analyst."
   ]
  },
  {
   "cell_type": "code",
   "execution_count": 20,
   "id": "880b988c",
   "metadata": {
    "execution": {
     "iopub.execute_input": "2022-08-16T14:06:04.168408Z",
     "iopub.status.busy": "2022-08-16T14:06:04.167244Z",
     "iopub.status.idle": "2022-08-16T14:06:04.526734Z",
     "shell.execute_reply": "2022-08-16T14:06:04.524992Z"
    },
    "papermill": {
     "duration": 0.375763,
     "end_time": "2022-08-16T14:06:04.529539",
     "exception": false,
     "start_time": "2022-08-16T14:06:04.153776",
     "status": "completed"
    },
    "scrolled": true,
    "tags": []
   },
   "outputs": [
    {
     "data": {
      "text/plain": [
       "Text(0.5, 0, 'Salary in USD')"
      ]
     },
     "execution_count": 20,
     "metadata": {},
     "output_type": "execute_result"
    },
    {
     "data": {
      "image/png": "[encoded data removed]",
      "text/plain": [
       "<Figure size 1080x360 with 1 Axes>"
      ]
     },
     "metadata": {
      "needs_background": "light"
     },
     "output_type": "display_data"
    }
   ],
   "source": [
    "plt.figure(figsize=(15,5))\n",
    "sns.histplot(Salaries['salary_in_usd'])\n",
    "plt.xlabel('Salary in USD')"
   ]
  },
  {
   "cell_type": "markdown",
   "id": "32ab5f26",
   "metadata": {
    "papermill": {
     "duration": 0.012471,
     "end_time": "2022-08-16T14:06:04.555702",
     "exception": false,
     "start_time": "2022-08-16T14:06:04.543231",
     "status": "completed"
    },
    "tags": []
   },
   "source": [
    "<center> Figure (1-7) </center>"
   ]
  },
  {
   "cell_type": "markdown",
   "id": "ae412d67",
   "metadata": {
    "papermill": {
     "duration": 0.012457,
     "end_time": "2022-08-16T14:06:04.580930",
     "exception": false,
     "start_time": "2022-08-16T14:06:04.568473",
     "status": "completed"
    },
    "tags": []
   },
   "source": [
    "\n",
    "<b id=\"3-1-7\">7- Salary in usd :</b><br>\n",
    "Graph (1-7) represents  Distrubtion of Salary for Data Jobs in the worled , it's clear  is the moat paid salary is 100000 annualy ,Skewed Right Distributions that make us observe that the most salaries is around 10k~250K ,and there some outlire entire"
   ]
  },
  {
   "cell_type": "code",
   "execution_count": 21,
   "id": "62e1ac65",
   "metadata": {
    "scrolled": false
   },
   "outputs": [
    {
     "data": {
      "text/plain": [
       "United States                318\n",
       "United Kingdom                46\n",
       "Canada                        28\n",
       "Germany                       27\n",
       "India                         24\n",
       "France                        15\n",
       "Spain                         14\n",
       "Greece                        10\n",
       "Japan                          6\n",
       "Netherlands                    4\n",
       "Austria                        4\n",
       "Portugal                       4\n",
       "Poland                         4\n",
       "Luxembourg                     3\n",
       "Pakistan                       3\n",
       "Brazil                         3\n",
       "United Arab Emirates           3\n",
       "Mexico                         3\n",
       "Australia                      3\n",
       "Turkey                         3\n",
       "Denmark                        3\n",
       "Italy                          2\n",
       "Czechia                        2\n",
       "Slovenia                       2\n",
       "Russian Federation             2\n",
       "Switzerland                    2\n",
       "Nigeria                        2\n",
       "China                          2\n",
       "Belgium                        2\n",
       "Viet Nam                       1\n",
       "Estonia                        1\n",
       "American Samoa                 1\n",
       "Algeria                        1\n",
       "Malaysia                       1\n",
       "Moldova, Republic of           1\n",
       "Kenya                          1\n",
       "Singapore                      1\n",
       "Colombia                       1\n",
       "Iran, Islamic Republic of      1\n",
       "Chile                          1\n",
       "Malta                          1\n",
       "Israel                         1\n",
       "Ukraine                        1\n",
       "Iraq                           1\n",
       "Romania                        1\n",
       "Croatia                        1\n",
       "New Zealand                    1\n",
       "Hungary                        1\n",
       "Honduras                       1\n",
       "Ireland                        1\n",
       "Name: company_location, dtype: int64"
      ]
     },
     "execution_count": 21,
     "metadata": {},
     "output_type": "execute_result"
    }
   ],
   "source": [
    "# numbers of campany per country\n",
    "\n",
    "\n",
    "salaries_jobs['company_location'].value_counts()"
   ]
  },
  {
   "cell_type": "markdown",
   "id": "3cc9ac50",
   "metadata": {},
   "source": [
    "* As we see The US has the large number of Campanies after The UK"
   ]
  },
  {
   "cell_type": "code",
   "execution_count": 22,
   "id": "38fd3787",
   "metadata": {
    "scrolled": false
   },
   "outputs": [
    {
     "data": {
      "text/plain": [
       "<AxesSubplot:>"
      ]
     },
     "execution_count": 22,
     "metadata": {},
     "output_type": "execute_result"
    },
    {
     "data": {
      "image/png": "[encoded data removed]",
      "text/plain": [
       "<Figure size 1080x360 with 1 Axes>"
      ]
     },
     "metadata": {
      "needs_background": "light"
     },
     "output_type": "display_data"
    }
   ],
   "source": [
    "plt.figure(figsize=(15,5))\n",
    "salaries_jobs['company_location'].value_counts()[0:25].plot(kind='bar',color=sns.color_palette(\"tab10\"))"
   ]
  },
  {
   "cell_type": "markdown",
   "id": "ad55a8e9",
   "metadata": {},
   "source": [
    "<center> Figure (1-8) </center>"
   ]
  },
  {
   "cell_type": "markdown",
   "id": "924dfa8f",
   "metadata": {},
   "source": [
    "\n",
    "<b id=\"3-1-8\">8- Numbers of companies per country  :</b><br>\n",
    "Graph (1-8) represents the Distribution of numbers of companies per country, it's clear that The US has a large number of Companies after The UK, Canada, Germany, and India respectively."
   ]
  },
  {
   "cell_type": "markdown",
   "id": "f4d4f131",
   "metadata": {
    "papermill": {
     "duration": 0.012705,
     "end_time": "2022-08-16T14:06:04.606534",
     "exception": false,
     "start_time": "2022-08-16T14:06:04.593829",
     "status": "completed"
    },
    "tags": []
   },
   "source": [
    "## <b id=\"3-2\"> Bivariate Analysis</b><br>\n"
   ]
  },
  {
   "cell_type": "code",
   "execution_count": 23,
   "id": "03072a29",
   "metadata": {},
   "outputs": [
    {
     "data": {
      "text/html": [
       "<div>\n",
       "<style scoped>\n",
       "    .dataframe tbody tr th:only-of-type {\n",
       "        vertical-align: middle;\n",
       "    }\n",
       "\n",
       "    .dataframe tbody tr th {\n",
       "        vertical-align: top;\n",
       "    }\n",
       "\n",
       "    .dataframe thead th {\n",
       "        text-align: right;\n",
       "    }\n",
       "</style>\n",
       "<table border=\"1\" class=\"dataframe\">\n",
       "  <thead>\n",
       "    <tr style=\"text-align: right;\">\n",
       "      <th></th>\n",
       "      <th>work_year</th>\n",
       "      <th>salary</th>\n",
       "      <th>salary_in_usd</th>\n",
       "    </tr>\n",
       "  </thead>\n",
       "  <tbody>\n",
       "    <tr>\n",
       "      <th>work_year</th>\n",
       "      <td>1.000000</td>\n",
       "      <td>-0.082597</td>\n",
       "      <td>0.159326</td>\n",
       "    </tr>\n",
       "    <tr>\n",
       "      <th>salary</th>\n",
       "      <td>-0.082597</td>\n",
       "      <td>1.000000</td>\n",
       "      <td>-0.083728</td>\n",
       "    </tr>\n",
       "    <tr>\n",
       "      <th>salary_in_usd</th>\n",
       "      <td>0.159326</td>\n",
       "      <td>-0.083728</td>\n",
       "      <td>1.000000</td>\n",
       "    </tr>\n",
       "  </tbody>\n",
       "</table>\n",
       "</div>"
      ],
      "text/plain": [
       "               work_year    salary  salary_in_usd\n",
       "work_year       1.000000 -0.082597       0.159326\n",
       "salary         -0.082597  1.000000      -0.083728\n",
       "salary_in_usd   0.159326 -0.083728       1.000000"
      ]
     },
     "execution_count": 23,
     "metadata": {},
     "output_type": "execute_result"
    }
   ],
   "source": [
    "Salaries.corr()"
   ]
  },
  {
   "cell_type": "code",
   "execution_count": 24,
   "id": "f1964f17",
   "metadata": {
    "execution": {
     "iopub.execute_input": "2022-08-16T14:06:04.634661Z",
     "iopub.status.busy": "2022-08-16T14:06:04.634217Z",
     "iopub.status.idle": "2022-08-16T14:06:04.957656Z",
     "shell.execute_reply": "2022-08-16T14:06:04.956241Z"
    },
    "papermill": {
     "duration": 0.341385,
     "end_time": "2022-08-16T14:06:04.960783",
     "exception": false,
     "start_time": "2022-08-16T14:06:04.619398",
     "status": "completed"
    },
    "tags": []
   },
   "outputs": [
    {
     "data": {
      "text/plain": [
       "<AxesSubplot:>"
      ]
     },
     "execution_count": 24,
     "metadata": {},
     "output_type": "execute_result"
    },
    {
     "data": {
      "image/png": "[encoded data removed]",
      "text/plain": [
       "<Figure size 720x360 with 2 Axes>"
      ]
     },
     "metadata": {
      "needs_background": "light"
     },
     "output_type": "display_data"
    }
   ],
   "source": [
    "plt.figure(figsize=(10,5))\n",
    "\n",
    "sns.heatmap(Salaries.corr(), annot=True, linewidths = 5)"
   ]
  },
  {
   "cell_type": "markdown",
   "id": "744381a7",
   "metadata": {
    "papermill": {
     "duration": 0.013356,
     "end_time": "2022-08-16T14:06:04.988129",
     "exception": false,
     "start_time": "2022-08-16T14:06:04.974773",
     "status": "completed"
    },
    "tags": []
   },
   "source": [
    "<center> Figure (2-1) </center>"
   ]
  },
  {
   "cell_type": "markdown",
   "id": "08121c3d",
   "metadata": {
    "papermill": {
     "duration": 0.014046,
     "end_time": "2022-08-16T14:06:05.015836",
     "exception": false,
     "start_time": "2022-08-16T14:06:05.001790",
     "status": "completed"
    },
    "tags": []
   },
   "source": [
    "\n",
    "<b id=\"3-2-1\">1 - Variables Correlation </b><br>\n",
    "Graph (2-1) represents The Correlation between all numerical variables , from this Graph we will select The most interconnection between the Variables .\n",
    "- work year has a correlation with salary in usd by (0.17)\n",
    "\n"
   ]
  },
  {
   "cell_type": "code",
   "execution_count": 25,
   "id": "44aa9267",
   "metadata": {
    "execution": {
     "iopub.execute_input": "2022-08-16T14:06:05.047017Z",
     "iopub.status.busy": "2022-08-16T14:06:05.046528Z",
     "iopub.status.idle": "2022-08-16T14:06:05.446779Z",
     "shell.execute_reply": "2022-08-16T14:06:05.445317Z"
    },
    "papermill": {
     "duration": 0.4187,
     "end_time": "2022-08-16T14:06:05.449309",
     "exception": false,
     "start_time": "2022-08-16T14:06:05.030609",
     "status": "completed"
    },
    "tags": []
   },
   "outputs": [
    {
     "data": {
      "image/png": "[encoded data removed]",
      "text/plain": [
       "<Figure size 1080x360 with 1 Axes>"
      ]
     },
     "metadata": {
      "needs_background": "light"
     },
     "output_type": "display_data"
    }
   ],
   "source": [
    "#salary in every year by Exprience_level using  box plot\n",
    "# in box plot easyly detect the outlier\n",
    "plt.figure(figsize=(15,5))\n",
    "sns.boxplot(x= salaries_jobs['work_year'],y = salaries_jobs['salary_in_usd'],hue=salaries_jobs['experience_level'])\n",
    "plt.xlabel('Work Year')\n",
    "plt.ylabel('Salary in Usd')\n",
    "plt.show()"
   ]
  },
  {
   "cell_type": "markdown",
   "id": "db665286",
   "metadata": {
    "papermill": {
     "duration": 0.013708,
     "end_time": "2022-08-16T14:06:05.477161",
     "exception": false,
     "start_time": "2022-08-16T14:06:05.463453",
     "status": "completed"
    },
    "tags": []
   },
   "source": [
    "<center> Figure (2-2) </center>"
   ]
  },
  {
   "cell_type": "markdown",
   "id": "b3308877",
   "metadata": {
    "papermill": {
     "duration": 0.01396,
     "end_time": "2022-08-16T14:06:05.505182",
     "exception": false,
     "start_time": "2022-08-16T14:06:05.491222",
     "status": "completed"
    },
    "tags": []
   },
   "source": [
    "\n",
    "<b id=\"3-2-2\">2 -How do these jobs increase in pay as experience level increases?  </b><br>\n",
    "\n",
    "Graph (2-2) represents that largest paid salary assigend to Expert experience level after senior , There some experts and senire jobs have salary over 400k it is clear these are outlire entires.  "
   ]
  },
  {
   "cell_type": "code",
   "execution_count": 26,
   "id": "807c9de5",
   "metadata": {},
   "outputs": [
    {
     "data": {
      "text/plain": [
       "remote_ratio  work_year\n",
       "Remote        2022         127772.293814\n",
       "On-Site       2022         114672.722222\n",
       "Remote        2021         113407.491379\n",
       "              2020         106693.611111\n",
       "Hybrid        2022          97875.666667\n",
       "On-Site       2020          95210.000000\n",
       "              2021          91630.823529\n",
       "Hybrid        2021          78566.492308\n",
       "              2020          77591.238095\n",
       "Name: salary_in_usd, dtype: float64"
      ]
     },
     "execution_count": 26,
     "metadata": {},
     "output_type": "execute_result"
    }
   ],
   "source": [
    "Remote_or_not = Salaries.groupby([\"remote_ratio\",\"work_year\"])[\"salary_in_usd\"].mean().sort_values(ascending = False)\n",
    "Remote_or_not"
   ]
  },
  {
   "cell_type": "code",
   "execution_count": 27,
   "id": "a0ec6fd3",
   "metadata": {
    "execution": {
     "iopub.execute_input": "2022-08-16T14:06:05.535657Z",
     "iopub.status.busy": "2022-08-16T14:06:05.534820Z",
     "iopub.status.idle": "2022-08-16T14:06:05.884133Z",
     "shell.execute_reply": "2022-08-16T14:06:05.882842Z"
    },
    "papermill": {
     "duration": 0.367471,
     "end_time": "2022-08-16T14:06:05.886726",
     "exception": false,
     "start_time": "2022-08-16T14:06:05.519255",
     "status": "completed"
    },
    "tags": []
   },
   "outputs": [
    {
     "data": {
      "image/png": "[encoded data removed]",
      "text/plain": [
       "<Figure size 1080x360 with 1 Axes>"
      ]
     },
     "metadata": {
      "needs_background": "light"
     },
     "output_type": "display_data"
    }
   ],
   "source": [
    "#salary in every year by company_size using box plot\n",
    "# in box plot easyly detect the outlier\n",
    "plt.figure(figsize=(15,5))\n",
    "sns.boxplot(x = salaries_jobs['work_year'],y = salaries_jobs['salary_in_usd'],hue=salaries_jobs['remote_ratio'])\n",
    "plt.xlabel('Work Year')\n",
    "plt.ylabel('Salary in Usd')\n",
    "plt.show()"
   ]
  },
  {
   "cell_type": "markdown",
   "id": "9bb0ec42",
   "metadata": {
    "papermill": {
     "duration": 0.028535,
     "end_time": "2022-08-16T14:06:05.930437",
     "exception": false,
     "start_time": "2022-08-16T14:06:05.901902",
     "status": "completed"
    },
    "tags": []
   },
   "source": [
    "<center> Figure (2-3) </center>"
   ]
  },
  {
   "cell_type": "markdown",
   "id": "ff248c9e",
   "metadata": {
    "papermill": {
     "duration": 0.014656,
     "end_time": "2022-08-16T14:06:05.960825",
     "exception": false,
     "start_time": "2022-08-16T14:06:05.946169",
     "status": "completed"
    },
    "tags": []
   },
   "source": [
    "<b id=\"3-2-3\">3 - Are On-site jobs paid salary better than Remot? Hybrid?  </b><br>\n",
    "\n",
    "Graph (2-3) represents that the average salary paid for full remote jobs increases over time from 2020 after On-site jobs and Hybrid jobs respectively.\n"
   ]
  },
  {
   "cell_type": "code",
   "execution_count": 28,
   "id": "76631694",
   "metadata": {},
   "outputs": [
    {
     "data": {
      "text/plain": [
       "company_size  work_year\n",
       "Large         2022         128554.883721\n",
       "medium        2022         124427.372197\n",
       "Large         2021         117772.581197\n",
       "medium        2020         115467.500000\n",
       "Large         2020         106303.848485\n",
       "Small         2021          81509.844444\n",
       "              2022          78633.750000\n",
       "medium        2021          74154.792453\n",
       "Small         2020          70958.560000\n",
       "Name: salary_in_usd, dtype: float64"
      ]
     },
     "execution_count": 28,
     "metadata": {},
     "output_type": "execute_result"
    }
   ],
   "source": [
    "Cam_size = Salaries.groupby([\"company_size\",\"work_year\"])[\"salary_in_usd\"].mean().sort_values(ascending = False)\n",
    "\n",
    "Cam_size"
   ]
  },
  {
   "cell_type": "code",
   "execution_count": 29,
   "id": "db7a6685",
   "metadata": {
    "execution": {
     "iopub.execute_input": "2022-08-16T14:06:05.992336Z",
     "iopub.status.busy": "2022-08-16T14:06:05.990810Z",
     "iopub.status.idle": "2022-08-16T14:06:10.898554Z",
     "shell.execute_reply": "2022-08-16T14:06:10.897253Z"
    },
    "papermill": {
     "duration": 4.926335,
     "end_time": "2022-08-16T14:06:10.901541",
     "exception": false,
     "start_time": "2022-08-16T14:06:05.975206",
     "status": "completed"
    },
    "scrolled": true,
    "tags": []
   },
   "outputs": [
    {
     "data": {
      "image/png": "[encoded data removed]",
      "text/plain": [
       "<Figure size 1080x360 with 1 Axes>"
      ]
     },
     "metadata": {
      "needs_background": "light"
     },
     "output_type": "display_data"
    }
   ],
   "source": [
    "#salary in every year by Exprience_level using bar plot and box plot\n",
    "# in box plot easyly detect the outlier\n",
    "plt.figure(figsize=(15,5))\n",
    "sns.boxplot(x = salaries_jobs['work_year'],y = salaries_jobs['salary_in_usd'] , data = salaries_jobs,hue=salaries_jobs['company_size'])\n",
    "plt.xlabel('Work Year')\n",
    "plt.ylabel('Salary in Usd')\n",
    "plt.show()"
   ]
  },
  {
   "cell_type": "markdown",
   "id": "6bd2124b",
   "metadata": {
    "papermill": {
     "duration": 0.01632,
     "end_time": "2022-08-16T14:06:10.934064",
     "exception": false,
     "start_time": "2022-08-16T14:06:10.917744",
     "status": "completed"
    },
    "tags": []
   },
   "source": [
    "<center> Figure (2-4) </center>"
   ]
  },
  {
   "cell_type": "markdown",
   "id": "2bb1a788",
   "metadata": {
    "papermill": {
     "duration": 0.015288,
     "end_time": "2022-08-16T14:06:10.965047",
     "exception": false,
     "start_time": "2022-08-16T14:06:10.949759",
     "status": "completed"
    },
    "tags": []
   },
   "source": [
    "\n",
    "<b id=\"3-2-4\">4- Salary & Company Size   </b><br>\n",
    "Graph (2-4) represent That largest paid salary for data jobs is offered by Large companies ,average salary in increase year by year"
   ]
  },
  {
   "cell_type": "code",
   "execution_count": 30,
   "id": "b1bcd259",
   "metadata": {},
   "outputs": [
    {
     "data": {
      "image/png": "[encoded data removed]",
      "text/plain": [
       "<Figure size 722.125x216 with 3 Axes>"
      ]
     },
     "metadata": {
      "needs_background": "light"
     },
     "output_type": "display_data"
    }
   ],
   "source": [
    "graph = sns.FacetGrid(Salaries, col = \"work_year\",  hue =\"remote_ratio\")\n",
    "# map the above form facetgrid with some attributes\n",
    "graph.map(plt.scatter, \"experience_level\", \"salary_in_usd\", edgecolor =\"w\").add_legend()\n",
    "# show the object\n",
    "plt.show()"
   ]
  },
  {
   "cell_type": "markdown",
   "id": "cdb38aa7",
   "metadata": {},
   "source": [
    "<center> Figure (2-5) </center>"
   ]
  },
  {
   "cell_type": "markdown",
   "id": "4328e65f",
   "metadata": {},
   "source": [
    "<b id = \"3-2-5\">5- Salary for remote ratio per experience level by year </b><br>\n",
    "\n",
    "Graph (2-5) represents the full remote jobsThe Most Sought Jobs for every experience level and paid average salary better than other remote ratio jobs. "
   ]
  },
  {
   "cell_type": "code",
   "execution_count": null,
   "id": "ad910956",
   "metadata": {},
   "outputs": [],
   "source": []
  }
 ],
 "metadata": {
  "kernelspec": {
   "display_name": "Python 3 (ipykernel)",
   "language": "python",
   "name": "python3"
  },
  "language_info": {
   "codemirror_mode": {
    "name": "ipython",
    "version": 3
   },
   "file_extension": ".py",
   "mimetype": "text/x-python",
   "name": "python",
   "nbconvert_exporter": "python",
   "pygments_lexer": "ipython3",
   "version": "3.9.12"
  },
  "papermill": {
   "default_parameters": {},
   "duration": 21.075859,
   "end_time": "2022-08-16T14:06:12.100507",
   "environment_variables": {},
   "exception": null,
   "input_path": "__notebook__.ipynb",
   "output_path": "__notebook__.ipynb",
   "parameters": {},
   "start_time": "2022-08-16T14:05:51.024648",
   "version": "2.3.4"
  }
 },
 "nbformat": 4,
 "nbformat_minor": 5
}
